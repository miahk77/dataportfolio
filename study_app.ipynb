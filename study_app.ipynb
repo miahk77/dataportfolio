{
 "cells": [
  {
   "cell_type": "code",
   "execution_count": 3,
   "metadata": {},
   "outputs": [
    {
     "name": "stdout",
     "output_type": "stream",
     "text": [
      "Welcome to the Study App.\n",
      "Press [a] to add a new question, [s] to start a new study session, or [q] to quit.\n",
      "What would you like to do?a\n",
      "enter a question:q\n",
      "provide list of responses:s\n",
      "provide the correct response:q\n",
      "provide a list of topic tags\n",
      "Press [a] to add a new question, [s] to start a new study session, or [q] to quit.\n",
      "What would you like to do?s\n"
     ]
    },
    {
     "ename": "KeyError",
     "evalue": "'question_text'",
     "output_type": "error",
     "traceback": [
      "\u001b[0;31m---------------------------------------------------------------------------\u001b[0m",
      "\u001b[0;31mKeyError\u001b[0m                                  Traceback (most recent call last)",
      "\u001b[0;32m/var/folders/vw/skyjc9j91d17hww7_bj2h8300000gn/T/ipykernel_87881/1413227765.py\u001b[0m in \u001b[0;36m<module>\u001b[0;34m\u001b[0m\n\u001b[1;32m     30\u001b[0m         \u001b[0madd_question\u001b[0m\u001b[0;34m(\u001b[0m\u001b[0;34m)\u001b[0m\u001b[0;34m\u001b[0m\u001b[0;34m\u001b[0m\u001b[0m\n\u001b[1;32m     31\u001b[0m     \u001b[0;32melif\u001b[0m \u001b[0mcurrent_task\u001b[0m\u001b[0;34m==\u001b[0m \u001b[0;34m\"s\"\u001b[0m\u001b[0;34m:\u001b[0m\u001b[0;34m\u001b[0m\u001b[0;34m\u001b[0m\u001b[0m\n\u001b[0;32m---> 32\u001b[0;31m         \u001b[0minitiate_study_session\u001b[0m\u001b[0;34m(\u001b[0m\u001b[0;34m)\u001b[0m\u001b[0;34m\u001b[0m\u001b[0;34m\u001b[0m\u001b[0m\n\u001b[0m\u001b[1;32m     33\u001b[0m     \u001b[0;32melse\u001b[0m\u001b[0;34m:\u001b[0m\u001b[0;34m\u001b[0m\u001b[0;34m\u001b[0m\u001b[0m\n\u001b[1;32m     34\u001b[0m         \u001b[0mprint\u001b[0m\u001b[0;34m(\u001b[0m\u001b[0;34m\"Please choose an option\"\u001b[0m\u001b[0;34m)\u001b[0m\u001b[0;34m\u001b[0m\u001b[0;34m\u001b[0m\u001b[0m\n",
      "\u001b[0;32m/var/folders/vw/skyjc9j91d17hww7_bj2h8300000gn/T/ipykernel_87881/573192513.py\u001b[0m in \u001b[0;36minitiate_study_session\u001b[0;34m()\u001b[0m\n\u001b[1;32m      6\u001b[0m         \u001b[0mquestions\u001b[0m \u001b[0;34m=\u001b[0m \u001b[0mlist\u001b[0m\u001b[0;34m(\u001b[0m\u001b[0mreader\u001b[0m\u001b[0;34m)\u001b[0m\u001b[0;34m\u001b[0m\u001b[0;34m\u001b[0m\u001b[0m\n\u001b[1;32m      7\u001b[0m         \u001b[0mrow\u001b[0m \u001b[0;34m=\u001b[0m \u001b[0mrandom\u001b[0m\u001b[0;34m.\u001b[0m\u001b[0mchoice\u001b[0m\u001b[0;34m(\u001b[0m\u001b[0mquestions\u001b[0m\u001b[0;34m)\u001b[0m\u001b[0;34m\u001b[0m\u001b[0;34m\u001b[0m\u001b[0m\n\u001b[0;32m----> 8\u001b[0;31m         \u001b[0mprint\u001b[0m\u001b[0;34m(\u001b[0m\u001b[0mrow\u001b[0m\u001b[0;34m[\u001b[0m\u001b[0;34m'question_text'\u001b[0m\u001b[0;34m]\u001b[0m\u001b[0;34m)\u001b[0m\u001b[0;34m\u001b[0m\u001b[0;34m\u001b[0m\u001b[0m\n\u001b[0m\u001b[1;32m      9\u001b[0m         \u001b[0mprint\u001b[0m\u001b[0;34m(\u001b[0m\u001b[0mrow\u001b[0m\u001b[0;34m[\u001b[0m\u001b[0;34m'response'\u001b[0m\u001b[0;34m]\u001b[0m\u001b[0;34m.\u001b[0m\u001b[0msplit\u001b[0m\u001b[0;34m(\u001b[0m\u001b[0;34m\",\"\u001b[0m\u001b[0;34m)\u001b[0m\u001b[0;34m)\u001b[0m\u001b[0;34m\u001b[0m\u001b[0;34m\u001b[0m\u001b[0m\n\u001b[1;32m     10\u001b[0m         \u001b[0muser_answer\u001b[0m \u001b[0;34m=\u001b[0m \u001b[0;34m''\u001b[0m\u001b[0;34m\u001b[0m\u001b[0;34m\u001b[0m\u001b[0m\n",
      "\u001b[0;31mKeyError\u001b[0m: 'question_text'"
     ]
    }
   ],
   "source": [
    "# https://docs.python.org/3/library/csv.html\n",
    "import csv\n",
    "with open(\"./questions.csv\", \"r+\", encoding = 'utf-8-sig') as file:\n",
    "    print(\"Welcome to the Study App.\")\n",
    "    \n",
    "    header = \"question_text, response, correct_response, topic_tags\"\n",
    "#with open('./questions.csv','r+') as file:\n",
    "    file.write(header)\n",
    "    \n",
    "    \"\"\"\n",
    "    \n",
    "    ISSUE #1 - HEADER:\n",
    "    \n",
    "    when i run the code above the headers are correctly inserted, \n",
    "    but then the add_question function does not insert a new row to the csv.\n",
    "    \n",
    "    ISSUE#2 - ROWS:\n",
    "\n",
    "    when i run a study session, the rows \"question_text\" and \"response\"\n",
    "    are not recognised. \n",
    "    \n",
    "    \n",
    "    \"\"\"\n",
    "    \n",
    "current_task = \"\"\n",
    "while current_task != \"q\":\n",
    "    print(\"Press [a] to add a new question, [s] to start a new study session, or [q] to quit.\")\n",
    "    current_task = input(\"What would you like to do?\")\n",
    "    if current_task == \"a\":\n",
    "        add_question()\n",
    "    elif current_task== \"s\":\n",
    "        initiate_study_session()\n",
    "    else:\n",
    "        print(\"Please choose an option\")\n",
    "        \n",
    "    \n",
    "    # Use a conditional to respond to what the user has chosen by executing one of the functions defined below"
   ]
  },
  {
   "cell_type": "code",
   "execution_count": 7,
   "metadata": {},
   "outputs": [],
   "source": [
    "from csv import writer\n",
    "\n",
    "def add_question():\n",
    "    question_text = input(\"enter a question:\")\n",
    "    response = input(\"provide list of responses:\")\n",
    "    correct_response = input(\"provide the correct response:\")\n",
    "    topic_tags = input(\"provide a list of topic tags\")\n",
    "    input_1 = [question_text, response,correct_response,topic_tags]\n",
    "    #{\"question_text\" : question_text,\n",
    "              # \"responses\":responses,\n",
    "               #\"correct_response\":correct_response,\n",
    "              # \"topic_tags\":topic_tags\n",
    "              #}\n",
    "    with open('./questions.csv','a', newline=\"\") as file: \n",
    "        # create csv writer object\n",
    "        CSVWriter = writer(file)\n",
    "        # add row to csv\n",
    "        CSVWriter.writerow(input_1)"
   ]
  },
  {
   "cell_type": "code",
   "execution_count": 8,
   "metadata": {},
   "outputs": [],
   "source": [
    "import random\n",
    "\n",
    "def initiate_study_session():\n",
    "    with open('./questions.csv','r') as file: \n",
    "        reader = csv.DictReader(file)\n",
    "        questions = list(reader)\n",
    "        row = random.choice(questions)\n",
    "        print(row['question_text'])\n",
    "        print(row['response'].split(\",\"))\n",
    "        user_answer = ''\n",
    "        user_answer = input(\"what is your answer?\")\n",
    "        while user_answer not in row['response'].split(\",\"):\n",
    "            print(\"your answer in invalid.\")\n",
    "            user_answer = input(\"please try again:\")\n",
    "        if user_answer in row['correct_response']:\n",
    "            print(\"correct!\")\n",
    "        else:\n",
    "            print('incorrect, please try again')\n",
    "        \n",
    "    \n",
    "\n",
    "    \n",
    "    \n",
    "    "
   ]
  }
 ],
 "metadata": {
  "kernelspec": {
   "display_name": "Python 3 (ipykernel)",
   "language": "python",
   "name": "python3"
  },
  "language_info": {
   "codemirror_mode": {
    "name": "ipython",
    "version": 3
   },
   "file_extension": ".py",
   "mimetype": "text/x-python",
   "name": "python",
   "nbconvert_exporter": "python",
   "pygments_lexer": "ipython3",
   "version": "3.9.7"
  }
 },
 "nbformat": 4,
 "nbformat_minor": 4
}
